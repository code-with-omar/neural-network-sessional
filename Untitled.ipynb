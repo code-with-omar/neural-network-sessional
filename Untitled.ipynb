{
 "cells": [
  {
   "cell_type": "code",
   "execution_count": 1,
   "id": "afab4aa1",
   "metadata": {},
   "outputs": [
    {
     "name": "stdout",
     "output_type": "stream",
     "text": [
      "Target Function Test:\n",
      "Input: [0 0 1] -> Output: [0.]\n",
      "Input: [0 1 1] -> Output: [0.]\n",
      "Input: [1 0 1] -> Output: [1.]\n",
      "Input: [1 1 1] -> Output: [1.]\n"
     ]
    }
   ],
   "source": [
    "import numpy as np\n",
    "\n",
    "# Sigmoid activation function and its derivative (for training)\n",
    "def sigmoid(x):\n",
    "    return 1 / (1 + np.exp(-x))\n",
    "\n",
    "def sigmoid_derivative(x):\n",
    "    return x * (1 - x)\n",
    "\n",
    "# Input and target datasets\n",
    "X_input = np.array([[0, 0, 1], [0, 1, 1], [1, 0, 1], [1, 1, 1]])\n",
    "\n",
    "D_target = np.array([[0], [0], [1], [1]])\n",
    "\n",
    "# Neural network parameters\n",
    "input_layer_size = 3\n",
    "output_layer_size = 1\n",
    "learning_rate = 0.1\n",
    "max_epochs = 10000\n",
    "\n",
    "# Initialize weights with random values\n",
    "np.random.seed(42)\n",
    "weights = np.random.randn(input_layer_size, output_layer_size)\n",
    "\n",
    "# Training the neural network with SGD\n",
    "for epoch in range(max_epochs):\n",
    "    error_sum = 0\n",
    "\n",
    "    for i in range(len(X_input)):\n",
    "        # Forward pass\n",
    "        input_data = X_input[i]\n",
    "        target_data = D_target[i]\n",
    "\n",
    "        net_input = np.dot(input_data, weights)\n",
    "        predicted_output = sigmoid(net_input)\n",
    "\n",
    "        # Calculate error\n",
    "        error = target_data - predicted_output\n",
    "        error_sum += np.abs(error)\n",
    "\n",
    "        # Update weights using the delta learning rule\n",
    "        weight_update = learning_rate * error * sigmoid_derivative(predicted_output) * input_data\n",
    "        weights += weight_update[:, np.newaxis]  # Update weights for each input separately\n",
    "\n",
    "    # Check for convergence\n",
    "    if error_sum < 0.01:\n",
    "        print(\"Converged in {} epochs.\".format(epoch + 1))\n",
    "        break\n",
    "\n",
    "# Test data\n",
    "test_data = X_input\n",
    "\n",
    "# Use the trained model to recognize target function\n",
    "print(\"Target Function Test:\")\n",
    "for i in range(len(test_data)):\n",
    "    input_data = test_data[i]\n",
    "    net_input = np.dot(input_data, weights)\n",
    "    predicted_output = sigmoid(net_input)\n",
    "\n",
    "    print(f\"Input: {input_data} -> Output: {np.round(predicted_output)}\")"
   ]
  },
  {
   "cell_type": "code",
   "execution_count": null,
   "id": "280c04bf",
   "metadata": {},
   "outputs": [],
   "source": []
  }
 ],
 "metadata": {
  "kernelspec": {
   "display_name": "Python 3 (ipykernel)",
   "language": "python",
   "name": "python3"
  },
  "language_info": {
   "codemirror_mode": {
    "name": "ipython",
    "version": 3
   },
   "file_extension": ".py",
   "mimetype": "text/x-python",
   "name": "python",
   "nbconvert_exporter": "python",
   "pygments_lexer": "ipython3",
   "version": "3.11.2"
  }
 },
 "nbformat": 4,
 "nbformat_minor": 5
}
